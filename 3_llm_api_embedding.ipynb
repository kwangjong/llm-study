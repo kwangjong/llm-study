{
 "cells": [
  {
   "cell_type": "code",
   "execution_count": 1,
   "metadata": {},
   "outputs": [
    {
     "name": "stdout",
     "output_type": "stream",
     "text": [
      "Requirement already satisfied: docx2txt in /home/kj/.pyenv/versions/3.12.11/envs/llm-study/lib/python3.12/site-packages (0.9)\n",
      "Requirement already satisfied: langchain-community in /home/kj/.pyenv/versions/3.12.11/envs/llm-study/lib/python3.12/site-packages (0.3.26)\n",
      "Requirement already satisfied: langchain-core<1.0.0,>=0.3.66 in /home/kj/.pyenv/versions/3.12.11/envs/llm-study/lib/python3.12/site-packages (from langchain-community) (0.3.66)\n",
      "Requirement already satisfied: langchain<1.0.0,>=0.3.26 in /home/kj/.pyenv/versions/3.12.11/envs/llm-study/lib/python3.12/site-packages (from langchain-community) (0.3.26)\n",
      "Requirement already satisfied: SQLAlchemy<3,>=1.4 in /home/kj/.pyenv/versions/3.12.11/envs/llm-study/lib/python3.12/site-packages (from langchain-community) (2.0.41)\n",
      "Requirement already satisfied: requests<3,>=2 in /home/kj/.pyenv/versions/3.12.11/envs/llm-study/lib/python3.12/site-packages (from langchain-community) (2.32.4)\n",
      "Requirement already satisfied: PyYAML>=5.3 in /home/kj/.pyenv/versions/3.12.11/envs/llm-study/lib/python3.12/site-packages (from langchain-community) (6.0.2)\n",
      "Requirement already satisfied: aiohttp<4.0.0,>=3.8.3 in /home/kj/.pyenv/versions/3.12.11/envs/llm-study/lib/python3.12/site-packages (from langchain-community) (3.12.13)\n",
      "Requirement already satisfied: tenacity!=8.4.0,<10,>=8.1.0 in /home/kj/.pyenv/versions/3.12.11/envs/llm-study/lib/python3.12/site-packages (from langchain-community) (9.1.2)\n",
      "Requirement already satisfied: dataclasses-json<0.7,>=0.5.7 in /home/kj/.pyenv/versions/3.12.11/envs/llm-study/lib/python3.12/site-packages (from langchain-community) (0.6.7)\n",
      "Requirement already satisfied: pydantic-settings<3.0.0,>=2.4.0 in /home/kj/.pyenv/versions/3.12.11/envs/llm-study/lib/python3.12/site-packages (from langchain-community) (2.10.1)\n",
      "Requirement already satisfied: langsmith>=0.1.125 in /home/kj/.pyenv/versions/3.12.11/envs/llm-study/lib/python3.12/site-packages (from langchain-community) (0.4.2)\n",
      "Requirement already satisfied: httpx-sse<1.0.0,>=0.4.0 in /home/kj/.pyenv/versions/3.12.11/envs/llm-study/lib/python3.12/site-packages (from langchain-community) (0.4.1)\n",
      "Requirement already satisfied: numpy>=1.26.2 in /home/kj/.pyenv/versions/3.12.11/envs/llm-study/lib/python3.12/site-packages (from langchain-community) (2.3.1)\n",
      "Requirement already satisfied: aiohappyeyeballs>=2.5.0 in /home/kj/.pyenv/versions/3.12.11/envs/llm-study/lib/python3.12/site-packages (from aiohttp<4.0.0,>=3.8.3->langchain-community) (2.6.1)\n",
      "Requirement already satisfied: aiosignal>=1.1.2 in /home/kj/.pyenv/versions/3.12.11/envs/llm-study/lib/python3.12/site-packages (from aiohttp<4.0.0,>=3.8.3->langchain-community) (1.3.2)\n",
      "Requirement already satisfied: attrs>=17.3.0 in /home/kj/.pyenv/versions/3.12.11/envs/llm-study/lib/python3.12/site-packages (from aiohttp<4.0.0,>=3.8.3->langchain-community) (25.3.0)\n",
      "Requirement already satisfied: frozenlist>=1.1.1 in /home/kj/.pyenv/versions/3.12.11/envs/llm-study/lib/python3.12/site-packages (from aiohttp<4.0.0,>=3.8.3->langchain-community) (1.7.0)\n",
      "Requirement already satisfied: multidict<7.0,>=4.5 in /home/kj/.pyenv/versions/3.12.11/envs/llm-study/lib/python3.12/site-packages (from aiohttp<4.0.0,>=3.8.3->langchain-community) (6.5.1)\n",
      "Requirement already satisfied: propcache>=0.2.0 in /home/kj/.pyenv/versions/3.12.11/envs/llm-study/lib/python3.12/site-packages (from aiohttp<4.0.0,>=3.8.3->langchain-community) (0.3.2)\n",
      "Requirement already satisfied: yarl<2.0,>=1.17.0 in /home/kj/.pyenv/versions/3.12.11/envs/llm-study/lib/python3.12/site-packages (from aiohttp<4.0.0,>=3.8.3->langchain-community) (1.20.1)\n",
      "Requirement already satisfied: marshmallow<4.0.0,>=3.18.0 in /home/kj/.pyenv/versions/3.12.11/envs/llm-study/lib/python3.12/site-packages (from dataclasses-json<0.7,>=0.5.7->langchain-community) (3.26.1)\n",
      "Requirement already satisfied: typing-inspect<1,>=0.4.0 in /home/kj/.pyenv/versions/3.12.11/envs/llm-study/lib/python3.12/site-packages (from dataclasses-json<0.7,>=0.5.7->langchain-community) (0.9.0)\n",
      "Requirement already satisfied: langchain-text-splitters<1.0.0,>=0.3.8 in /home/kj/.pyenv/versions/3.12.11/envs/llm-study/lib/python3.12/site-packages (from langchain<1.0.0,>=0.3.26->langchain-community) (0.3.8)\n",
      "Requirement already satisfied: pydantic<3.0.0,>=2.7.4 in /home/kj/.pyenv/versions/3.12.11/envs/llm-study/lib/python3.12/site-packages (from langchain<1.0.0,>=0.3.26->langchain-community) (2.11.7)\n",
      "Requirement already satisfied: jsonpatch<2.0,>=1.33 in /home/kj/.pyenv/versions/3.12.11/envs/llm-study/lib/python3.12/site-packages (from langchain-core<1.0.0,>=0.3.66->langchain-community) (1.33)\n",
      "Requirement already satisfied: packaging<25,>=23.2 in /home/kj/.pyenv/versions/3.12.11/envs/llm-study/lib/python3.12/site-packages (from langchain-core<1.0.0,>=0.3.66->langchain-community) (24.2)\n",
      "Requirement already satisfied: typing-extensions>=4.7 in /home/kj/.pyenv/versions/3.12.11/envs/llm-study/lib/python3.12/site-packages (from langchain-core<1.0.0,>=0.3.66->langchain-community) (4.14.0)\n",
      "Requirement already satisfied: jsonpointer>=1.9 in /home/kj/.pyenv/versions/3.12.11/envs/llm-study/lib/python3.12/site-packages (from jsonpatch<2.0,>=1.33->langchain-core<1.0.0,>=0.3.66->langchain-community) (3.0.0)\n",
      "Requirement already satisfied: annotated-types>=0.6.0 in /home/kj/.pyenv/versions/3.12.11/envs/llm-study/lib/python3.12/site-packages (from pydantic<3.0.0,>=2.7.4->langchain<1.0.0,>=0.3.26->langchain-community) (0.7.0)\n",
      "Requirement already satisfied: pydantic-core==2.33.2 in /home/kj/.pyenv/versions/3.12.11/envs/llm-study/lib/python3.12/site-packages (from pydantic<3.0.0,>=2.7.4->langchain<1.0.0,>=0.3.26->langchain-community) (2.33.2)\n",
      "Requirement already satisfied: typing-inspection>=0.4.0 in /home/kj/.pyenv/versions/3.12.11/envs/llm-study/lib/python3.12/site-packages (from pydantic<3.0.0,>=2.7.4->langchain<1.0.0,>=0.3.26->langchain-community) (0.4.1)\n",
      "Requirement already satisfied: python-dotenv>=0.21.0 in /home/kj/.pyenv/versions/3.12.11/envs/llm-study/lib/python3.12/site-packages (from pydantic-settings<3.0.0,>=2.4.0->langchain-community) (1.1.1)\n",
      "Requirement already satisfied: charset_normalizer<4,>=2 in /home/kj/.pyenv/versions/3.12.11/envs/llm-study/lib/python3.12/site-packages (from requests<3,>=2->langchain-community) (3.4.2)\n",
      "Requirement already satisfied: idna<4,>=2.5 in /home/kj/.pyenv/versions/3.12.11/envs/llm-study/lib/python3.12/site-packages (from requests<3,>=2->langchain-community) (3.10)\n",
      "Requirement already satisfied: urllib3<3,>=1.21.1 in /home/kj/.pyenv/versions/3.12.11/envs/llm-study/lib/python3.12/site-packages (from requests<3,>=2->langchain-community) (2.5.0)\n",
      "Requirement already satisfied: certifi>=2017.4.17 in /home/kj/.pyenv/versions/3.12.11/envs/llm-study/lib/python3.12/site-packages (from requests<3,>=2->langchain-community) (2025.6.15)\n",
      "Requirement already satisfied: greenlet>=1 in /home/kj/.pyenv/versions/3.12.11/envs/llm-study/lib/python3.12/site-packages (from SQLAlchemy<3,>=1.4->langchain-community) (3.2.3)\n",
      "Requirement already satisfied: mypy-extensions>=0.3.0 in /home/kj/.pyenv/versions/3.12.11/envs/llm-study/lib/python3.12/site-packages (from typing-inspect<1,>=0.4.0->dataclasses-json<0.7,>=0.5.7->langchain-community) (1.1.0)\n",
      "Requirement already satisfied: httpx<1,>=0.23.0 in /home/kj/.pyenv/versions/3.12.11/envs/llm-study/lib/python3.12/site-packages (from langsmith>=0.1.125->langchain-community) (0.28.1)\n",
      "Requirement already satisfied: orjson<4.0.0,>=3.9.14 in /home/kj/.pyenv/versions/3.12.11/envs/llm-study/lib/python3.12/site-packages (from langsmith>=0.1.125->langchain-community) (3.10.18)\n",
      "Requirement already satisfied: requests-toolbelt<2.0.0,>=1.0.0 in /home/kj/.pyenv/versions/3.12.11/envs/llm-study/lib/python3.12/site-packages (from langsmith>=0.1.125->langchain-community) (1.0.0)\n",
      "Requirement already satisfied: zstandard<0.24.0,>=0.23.0 in /home/kj/.pyenv/versions/3.12.11/envs/llm-study/lib/python3.12/site-packages (from langsmith>=0.1.125->langchain-community) (0.23.0)\n",
      "Requirement already satisfied: anyio in /home/kj/.pyenv/versions/3.12.11/envs/llm-study/lib/python3.12/site-packages (from httpx<1,>=0.23.0->langsmith>=0.1.125->langchain-community) (4.9.0)\n",
      "Requirement already satisfied: httpcore==1.* in /home/kj/.pyenv/versions/3.12.11/envs/llm-study/lib/python3.12/site-packages (from httpx<1,>=0.23.0->langsmith>=0.1.125->langchain-community) (1.0.9)\n",
      "Requirement already satisfied: h11>=0.16 in /home/kj/.pyenv/versions/3.12.11/envs/llm-study/lib/python3.12/site-packages (from httpcore==1.*->httpx<1,>=0.23.0->langsmith>=0.1.125->langchain-community) (0.16.0)\n",
      "Requirement already satisfied: sniffio>=1.1 in /home/kj/.pyenv/versions/3.12.11/envs/llm-study/lib/python3.12/site-packages (from anyio->httpx<1,>=0.23.0->langsmith>=0.1.125->langchain-community) (1.3.1)\n",
      "Requirement already satisfied: langchain-text-splitters in /home/kj/.pyenv/versions/3.12.11/envs/llm-study/lib/python3.12/site-packages (0.3.8)\n",
      "Requirement already satisfied: langchain-core<1.0.0,>=0.3.51 in /home/kj/.pyenv/versions/3.12.11/envs/llm-study/lib/python3.12/site-packages (from langchain-text-splitters) (0.3.66)\n",
      "Requirement already satisfied: langsmith>=0.3.45 in /home/kj/.pyenv/versions/3.12.11/envs/llm-study/lib/python3.12/site-packages (from langchain-core<1.0.0,>=0.3.51->langchain-text-splitters) (0.4.2)\n",
      "Requirement already satisfied: tenacity!=8.4.0,<10.0.0,>=8.1.0 in /home/kj/.pyenv/versions/3.12.11/envs/llm-study/lib/python3.12/site-packages (from langchain-core<1.0.0,>=0.3.51->langchain-text-splitters) (9.1.2)\n",
      "Requirement already satisfied: jsonpatch<2.0,>=1.33 in /home/kj/.pyenv/versions/3.12.11/envs/llm-study/lib/python3.12/site-packages (from langchain-core<1.0.0,>=0.3.51->langchain-text-splitters) (1.33)\n",
      "Requirement already satisfied: PyYAML>=5.3 in /home/kj/.pyenv/versions/3.12.11/envs/llm-study/lib/python3.12/site-packages (from langchain-core<1.0.0,>=0.3.51->langchain-text-splitters) (6.0.2)\n",
      "Requirement already satisfied: packaging<25,>=23.2 in /home/kj/.pyenv/versions/3.12.11/envs/llm-study/lib/python3.12/site-packages (from langchain-core<1.0.0,>=0.3.51->langchain-text-splitters) (24.2)\n",
      "Requirement already satisfied: typing-extensions>=4.7 in /home/kj/.pyenv/versions/3.12.11/envs/llm-study/lib/python3.12/site-packages (from langchain-core<1.0.0,>=0.3.51->langchain-text-splitters) (4.14.0)\n",
      "Requirement already satisfied: pydantic>=2.7.4 in /home/kj/.pyenv/versions/3.12.11/envs/llm-study/lib/python3.12/site-packages (from langchain-core<1.0.0,>=0.3.51->langchain-text-splitters) (2.11.7)\n",
      "Requirement already satisfied: jsonpointer>=1.9 in /home/kj/.pyenv/versions/3.12.11/envs/llm-study/lib/python3.12/site-packages (from jsonpatch<2.0,>=1.33->langchain-core<1.0.0,>=0.3.51->langchain-text-splitters) (3.0.0)\n",
      "Requirement already satisfied: httpx<1,>=0.23.0 in /home/kj/.pyenv/versions/3.12.11/envs/llm-study/lib/python3.12/site-packages (from langsmith>=0.3.45->langchain-core<1.0.0,>=0.3.51->langchain-text-splitters) (0.28.1)\n",
      "Requirement already satisfied: orjson<4.0.0,>=3.9.14 in /home/kj/.pyenv/versions/3.12.11/envs/llm-study/lib/python3.12/site-packages (from langsmith>=0.3.45->langchain-core<1.0.0,>=0.3.51->langchain-text-splitters) (3.10.18)\n",
      "Requirement already satisfied: requests<3,>=2 in /home/kj/.pyenv/versions/3.12.11/envs/llm-study/lib/python3.12/site-packages (from langsmith>=0.3.45->langchain-core<1.0.0,>=0.3.51->langchain-text-splitters) (2.32.4)\n",
      "Requirement already satisfied: requests-toolbelt<2.0.0,>=1.0.0 in /home/kj/.pyenv/versions/3.12.11/envs/llm-study/lib/python3.12/site-packages (from langsmith>=0.3.45->langchain-core<1.0.0,>=0.3.51->langchain-text-splitters) (1.0.0)\n",
      "Requirement already satisfied: zstandard<0.24.0,>=0.23.0 in /home/kj/.pyenv/versions/3.12.11/envs/llm-study/lib/python3.12/site-packages (from langsmith>=0.3.45->langchain-core<1.0.0,>=0.3.51->langchain-text-splitters) (0.23.0)\n",
      "Requirement already satisfied: anyio in /home/kj/.pyenv/versions/3.12.11/envs/llm-study/lib/python3.12/site-packages (from httpx<1,>=0.23.0->langsmith>=0.3.45->langchain-core<1.0.0,>=0.3.51->langchain-text-splitters) (4.9.0)\n",
      "Requirement already satisfied: certifi in /home/kj/.pyenv/versions/3.12.11/envs/llm-study/lib/python3.12/site-packages (from httpx<1,>=0.23.0->langsmith>=0.3.45->langchain-core<1.0.0,>=0.3.51->langchain-text-splitters) (2025.6.15)\n",
      "Requirement already satisfied: httpcore==1.* in /home/kj/.pyenv/versions/3.12.11/envs/llm-study/lib/python3.12/site-packages (from httpx<1,>=0.23.0->langsmith>=0.3.45->langchain-core<1.0.0,>=0.3.51->langchain-text-splitters) (1.0.9)\n",
      "Requirement already satisfied: idna in /home/kj/.pyenv/versions/3.12.11/envs/llm-study/lib/python3.12/site-packages (from httpx<1,>=0.23.0->langsmith>=0.3.45->langchain-core<1.0.0,>=0.3.51->langchain-text-splitters) (3.10)\n",
      "Requirement already satisfied: h11>=0.16 in /home/kj/.pyenv/versions/3.12.11/envs/llm-study/lib/python3.12/site-packages (from httpcore==1.*->httpx<1,>=0.23.0->langsmith>=0.3.45->langchain-core<1.0.0,>=0.3.51->langchain-text-splitters) (0.16.0)\n",
      "Requirement already satisfied: annotated-types>=0.6.0 in /home/kj/.pyenv/versions/3.12.11/envs/llm-study/lib/python3.12/site-packages (from pydantic>=2.7.4->langchain-core<1.0.0,>=0.3.51->langchain-text-splitters) (0.7.0)\n",
      "Requirement already satisfied: pydantic-core==2.33.2 in /home/kj/.pyenv/versions/3.12.11/envs/llm-study/lib/python3.12/site-packages (from pydantic>=2.7.4->langchain-core<1.0.0,>=0.3.51->langchain-text-splitters) (2.33.2)\n",
      "Requirement already satisfied: typing-inspection>=0.4.0 in /home/kj/.pyenv/versions/3.12.11/envs/llm-study/lib/python3.12/site-packages (from pydantic>=2.7.4->langchain-core<1.0.0,>=0.3.51->langchain-text-splitters) (0.4.1)\n",
      "Requirement already satisfied: charset_normalizer<4,>=2 in /home/kj/.pyenv/versions/3.12.11/envs/llm-study/lib/python3.12/site-packages (from requests<3,>=2->langsmith>=0.3.45->langchain-core<1.0.0,>=0.3.51->langchain-text-splitters) (3.4.2)\n",
      "Requirement already satisfied: urllib3<3,>=1.21.1 in /home/kj/.pyenv/versions/3.12.11/envs/llm-study/lib/python3.12/site-packages (from requests<3,>=2->langsmith>=0.3.45->langchain-core<1.0.0,>=0.3.51->langchain-text-splitters) (2.5.0)\n",
      "Requirement already satisfied: sniffio>=1.1 in /home/kj/.pyenv/versions/3.12.11/envs/llm-study/lib/python3.12/site-packages (from anyio->httpx<1,>=0.23.0->langsmith>=0.3.45->langchain-core<1.0.0,>=0.3.51->langchain-text-splitters) (1.3.1)\n",
      "Requirement already satisfied: langchain-chroma in /home/kj/.pyenv/versions/3.12.11/envs/llm-study/lib/python3.12/site-packages (0.2.4)\n",
      "Requirement already satisfied: langchain-core>=0.3.60 in /home/kj/.pyenv/versions/3.12.11/envs/llm-study/lib/python3.12/site-packages (from langchain-chroma) (0.3.66)\n",
      "Requirement already satisfied: numpy>=1.26.0 in /home/kj/.pyenv/versions/3.12.11/envs/llm-study/lib/python3.12/site-packages (from langchain-chroma) (2.3.1)\n",
      "Requirement already satisfied: chromadb>=1.0.9 in /home/kj/.pyenv/versions/3.12.11/envs/llm-study/lib/python3.12/site-packages (from langchain-chroma) (1.0.13)\n",
      "Requirement already satisfied: build>=1.0.3 in /home/kj/.pyenv/versions/3.12.11/envs/llm-study/lib/python3.12/site-packages (from chromadb>=1.0.9->langchain-chroma) (1.2.2.post1)\n",
      "Requirement already satisfied: pydantic>=1.9 in /home/kj/.pyenv/versions/3.12.11/envs/llm-study/lib/python3.12/site-packages (from chromadb>=1.0.9->langchain-chroma) (2.11.7)\n",
      "Requirement already satisfied: pybase64>=1.4.1 in /home/kj/.pyenv/versions/3.12.11/envs/llm-study/lib/python3.12/site-packages (from chromadb>=1.0.9->langchain-chroma) (1.4.1)\n",
      "Requirement already satisfied: uvicorn>=0.18.3 in /home/kj/.pyenv/versions/3.12.11/envs/llm-study/lib/python3.12/site-packages (from uvicorn[standard]>=0.18.3->chromadb>=1.0.9->langchain-chroma) (0.34.3)\n",
      "Requirement already satisfied: posthog>=2.4.0 in /home/kj/.pyenv/versions/3.12.11/envs/llm-study/lib/python3.12/site-packages (from chromadb>=1.0.9->langchain-chroma) (5.4.0)\n",
      "Requirement already satisfied: typing-extensions>=4.5.0 in /home/kj/.pyenv/versions/3.12.11/envs/llm-study/lib/python3.12/site-packages (from chromadb>=1.0.9->langchain-chroma) (4.14.0)\n",
      "Requirement already satisfied: onnxruntime>=1.14.1 in /home/kj/.pyenv/versions/3.12.11/envs/llm-study/lib/python3.12/site-packages (from chromadb>=1.0.9->langchain-chroma) (1.22.0)\n",
      "Requirement already satisfied: opentelemetry-api>=1.2.0 in /home/kj/.pyenv/versions/3.12.11/envs/llm-study/lib/python3.12/site-packages (from chromadb>=1.0.9->langchain-chroma) (1.34.1)\n",
      "Requirement already satisfied: opentelemetry-exporter-otlp-proto-grpc>=1.2.0 in /home/kj/.pyenv/versions/3.12.11/envs/llm-study/lib/python3.12/site-packages (from chromadb>=1.0.9->langchain-chroma) (1.34.1)\n",
      "Requirement already satisfied: opentelemetry-sdk>=1.2.0 in /home/kj/.pyenv/versions/3.12.11/envs/llm-study/lib/python3.12/site-packages (from chromadb>=1.0.9->langchain-chroma) (1.34.1)\n",
      "Requirement already satisfied: tokenizers>=0.13.2 in /home/kj/.pyenv/versions/3.12.11/envs/llm-study/lib/python3.12/site-packages (from chromadb>=1.0.9->langchain-chroma) (0.21.2)\n",
      "Requirement already satisfied: pypika>=0.48.9 in /home/kj/.pyenv/versions/3.12.11/envs/llm-study/lib/python3.12/site-packages (from chromadb>=1.0.9->langchain-chroma) (0.48.9)\n",
      "Requirement already satisfied: tqdm>=4.65.0 in /home/kj/.pyenv/versions/3.12.11/envs/llm-study/lib/python3.12/site-packages (from chromadb>=1.0.9->langchain-chroma) (4.67.1)\n",
      "Requirement already satisfied: overrides>=7.3.1 in /home/kj/.pyenv/versions/3.12.11/envs/llm-study/lib/python3.12/site-packages (from chromadb>=1.0.9->langchain-chroma) (7.7.0)\n",
      "Requirement already satisfied: importlib-resources in /home/kj/.pyenv/versions/3.12.11/envs/llm-study/lib/python3.12/site-packages (from chromadb>=1.0.9->langchain-chroma) (6.5.2)\n",
      "Requirement already satisfied: grpcio>=1.58.0 in /home/kj/.pyenv/versions/3.12.11/envs/llm-study/lib/python3.12/site-packages (from chromadb>=1.0.9->langchain-chroma) (1.73.1)\n",
      "Requirement already satisfied: bcrypt>=4.0.1 in /home/kj/.pyenv/versions/3.12.11/envs/llm-study/lib/python3.12/site-packages (from chromadb>=1.0.9->langchain-chroma) (4.3.0)\n",
      "Requirement already satisfied: typer>=0.9.0 in /home/kj/.pyenv/versions/3.12.11/envs/llm-study/lib/python3.12/site-packages (from chromadb>=1.0.9->langchain-chroma) (0.16.0)\n",
      "Requirement already satisfied: kubernetes>=28.1.0 in /home/kj/.pyenv/versions/3.12.11/envs/llm-study/lib/python3.12/site-packages (from chromadb>=1.0.9->langchain-chroma) (33.1.0)\n",
      "Requirement already satisfied: tenacity>=8.2.3 in /home/kj/.pyenv/versions/3.12.11/envs/llm-study/lib/python3.12/site-packages (from chromadb>=1.0.9->langchain-chroma) (9.1.2)\n",
      "Requirement already satisfied: pyyaml>=6.0.0 in /home/kj/.pyenv/versions/3.12.11/envs/llm-study/lib/python3.12/site-packages (from chromadb>=1.0.9->langchain-chroma) (6.0.2)\n",
      "Requirement already satisfied: mmh3>=4.0.1 in /home/kj/.pyenv/versions/3.12.11/envs/llm-study/lib/python3.12/site-packages (from chromadb>=1.0.9->langchain-chroma) (5.1.0)\n",
      "Requirement already satisfied: orjson>=3.9.12 in /home/kj/.pyenv/versions/3.12.11/envs/llm-study/lib/python3.12/site-packages (from chromadb>=1.0.9->langchain-chroma) (3.10.18)\n",
      "Requirement already satisfied: httpx>=0.27.0 in /home/kj/.pyenv/versions/3.12.11/envs/llm-study/lib/python3.12/site-packages (from chromadb>=1.0.9->langchain-chroma) (0.28.1)\n",
      "Requirement already satisfied: rich>=10.11.0 in /home/kj/.pyenv/versions/3.12.11/envs/llm-study/lib/python3.12/site-packages (from chromadb>=1.0.9->langchain-chroma) (14.0.0)\n",
      "Requirement already satisfied: jsonschema>=4.19.0 in /home/kj/.pyenv/versions/3.12.11/envs/llm-study/lib/python3.12/site-packages (from chromadb>=1.0.9->langchain-chroma) (4.24.0)\n",
      "Requirement already satisfied: packaging>=19.1 in /home/kj/.pyenv/versions/3.12.11/envs/llm-study/lib/python3.12/site-packages (from build>=1.0.3->chromadb>=1.0.9->langchain-chroma) (24.2)\n",
      "Requirement already satisfied: pyproject_hooks in /home/kj/.pyenv/versions/3.12.11/envs/llm-study/lib/python3.12/site-packages (from build>=1.0.3->chromadb>=1.0.9->langchain-chroma) (1.2.0)\n",
      "Requirement already satisfied: anyio in /home/kj/.pyenv/versions/3.12.11/envs/llm-study/lib/python3.12/site-packages (from httpx>=0.27.0->chromadb>=1.0.9->langchain-chroma) (4.9.0)\n",
      "Requirement already satisfied: certifi in /home/kj/.pyenv/versions/3.12.11/envs/llm-study/lib/python3.12/site-packages (from httpx>=0.27.0->chromadb>=1.0.9->langchain-chroma) (2025.6.15)\n",
      "Requirement already satisfied: httpcore==1.* in /home/kj/.pyenv/versions/3.12.11/envs/llm-study/lib/python3.12/site-packages (from httpx>=0.27.0->chromadb>=1.0.9->langchain-chroma) (1.0.9)\n",
      "Requirement already satisfied: idna in /home/kj/.pyenv/versions/3.12.11/envs/llm-study/lib/python3.12/site-packages (from httpx>=0.27.0->chromadb>=1.0.9->langchain-chroma) (3.10)\n",
      "Requirement already satisfied: h11>=0.16 in /home/kj/.pyenv/versions/3.12.11/envs/llm-study/lib/python3.12/site-packages (from httpcore==1.*->httpx>=0.27.0->chromadb>=1.0.9->langchain-chroma) (0.16.0)\n",
      "Requirement already satisfied: attrs>=22.2.0 in /home/kj/.pyenv/versions/3.12.11/envs/llm-study/lib/python3.12/site-packages (from jsonschema>=4.19.0->chromadb>=1.0.9->langchain-chroma) (25.3.0)\n",
      "Requirement already satisfied: jsonschema-specifications>=2023.03.6 in /home/kj/.pyenv/versions/3.12.11/envs/llm-study/lib/python3.12/site-packages (from jsonschema>=4.19.0->chromadb>=1.0.9->langchain-chroma) (2025.4.1)\n",
      "Requirement already satisfied: referencing>=0.28.4 in /home/kj/.pyenv/versions/3.12.11/envs/llm-study/lib/python3.12/site-packages (from jsonschema>=4.19.0->chromadb>=1.0.9->langchain-chroma) (0.36.2)\n",
      "Requirement already satisfied: rpds-py>=0.7.1 in /home/kj/.pyenv/versions/3.12.11/envs/llm-study/lib/python3.12/site-packages (from jsonschema>=4.19.0->chromadb>=1.0.9->langchain-chroma) (0.25.1)\n",
      "Requirement already satisfied: six>=1.9.0 in /home/kj/.pyenv/versions/3.12.11/envs/llm-study/lib/python3.12/site-packages (from kubernetes>=28.1.0->chromadb>=1.0.9->langchain-chroma) (1.17.0)\n",
      "Requirement already satisfied: python-dateutil>=2.5.3 in /home/kj/.pyenv/versions/3.12.11/envs/llm-study/lib/python3.12/site-packages (from kubernetes>=28.1.0->chromadb>=1.0.9->langchain-chroma) (2.9.0.post0)\n",
      "Requirement already satisfied: google-auth>=1.0.1 in /home/kj/.pyenv/versions/3.12.11/envs/llm-study/lib/python3.12/site-packages (from kubernetes>=28.1.0->chromadb>=1.0.9->langchain-chroma) (2.40.3)\n",
      "Requirement already satisfied: websocket-client!=0.40.0,!=0.41.*,!=0.42.*,>=0.32.0 in /home/kj/.pyenv/versions/3.12.11/envs/llm-study/lib/python3.12/site-packages (from kubernetes>=28.1.0->chromadb>=1.0.9->langchain-chroma) (1.8.0)\n",
      "Requirement already satisfied: requests in /home/kj/.pyenv/versions/3.12.11/envs/llm-study/lib/python3.12/site-packages (from kubernetes>=28.1.0->chromadb>=1.0.9->langchain-chroma) (2.32.4)\n",
      "Requirement already satisfied: requests-oauthlib in /home/kj/.pyenv/versions/3.12.11/envs/llm-study/lib/python3.12/site-packages (from kubernetes>=28.1.0->chromadb>=1.0.9->langchain-chroma) (2.0.0)\n",
      "Requirement already satisfied: oauthlib>=3.2.2 in /home/kj/.pyenv/versions/3.12.11/envs/llm-study/lib/python3.12/site-packages (from kubernetes>=28.1.0->chromadb>=1.0.9->langchain-chroma) (3.3.1)\n",
      "Requirement already satisfied: urllib3>=1.24.2 in /home/kj/.pyenv/versions/3.12.11/envs/llm-study/lib/python3.12/site-packages (from kubernetes>=28.1.0->chromadb>=1.0.9->langchain-chroma) (2.5.0)\n",
      "Requirement already satisfied: durationpy>=0.7 in /home/kj/.pyenv/versions/3.12.11/envs/llm-study/lib/python3.12/site-packages (from kubernetes>=28.1.0->chromadb>=1.0.9->langchain-chroma) (0.10)\n",
      "Requirement already satisfied: cachetools<6.0,>=2.0.0 in /home/kj/.pyenv/versions/3.12.11/envs/llm-study/lib/python3.12/site-packages (from google-auth>=1.0.1->kubernetes>=28.1.0->chromadb>=1.0.9->langchain-chroma) (5.5.2)\n",
      "Requirement already satisfied: pyasn1-modules>=0.2.1 in /home/kj/.pyenv/versions/3.12.11/envs/llm-study/lib/python3.12/site-packages (from google-auth>=1.0.1->kubernetes>=28.1.0->chromadb>=1.0.9->langchain-chroma) (0.4.2)\n",
      "Requirement already satisfied: rsa<5,>=3.1.4 in /home/kj/.pyenv/versions/3.12.11/envs/llm-study/lib/python3.12/site-packages (from google-auth>=1.0.1->kubernetes>=28.1.0->chromadb>=1.0.9->langchain-chroma) (4.9.1)\n",
      "Requirement already satisfied: pyasn1>=0.1.3 in /home/kj/.pyenv/versions/3.12.11/envs/llm-study/lib/python3.12/site-packages (from rsa<5,>=3.1.4->google-auth>=1.0.1->kubernetes>=28.1.0->chromadb>=1.0.9->langchain-chroma) (0.6.1)\n",
      "Requirement already satisfied: langsmith>=0.3.45 in /home/kj/.pyenv/versions/3.12.11/envs/llm-study/lib/python3.12/site-packages (from langchain-core>=0.3.60->langchain-chroma) (0.4.2)\n",
      "Requirement already satisfied: jsonpatch<2.0,>=1.33 in /home/kj/.pyenv/versions/3.12.11/envs/llm-study/lib/python3.12/site-packages (from langchain-core>=0.3.60->langchain-chroma) (1.33)\n",
      "Requirement already satisfied: jsonpointer>=1.9 in /home/kj/.pyenv/versions/3.12.11/envs/llm-study/lib/python3.12/site-packages (from jsonpatch<2.0,>=1.33->langchain-core>=0.3.60->langchain-chroma) (3.0.0)\n",
      "Requirement already satisfied: requests-toolbelt<2.0.0,>=1.0.0 in /home/kj/.pyenv/versions/3.12.11/envs/llm-study/lib/python3.12/site-packages (from langsmith>=0.3.45->langchain-core>=0.3.60->langchain-chroma) (1.0.0)\n",
      "Requirement already satisfied: zstandard<0.24.0,>=0.23.0 in /home/kj/.pyenv/versions/3.12.11/envs/llm-study/lib/python3.12/site-packages (from langsmith>=0.3.45->langchain-core>=0.3.60->langchain-chroma) (0.23.0)\n",
      "Requirement already satisfied: annotated-types>=0.6.0 in /home/kj/.pyenv/versions/3.12.11/envs/llm-study/lib/python3.12/site-packages (from pydantic>=1.9->chromadb>=1.0.9->langchain-chroma) (0.7.0)\n",
      "Requirement already satisfied: pydantic-core==2.33.2 in /home/kj/.pyenv/versions/3.12.11/envs/llm-study/lib/python3.12/site-packages (from pydantic>=1.9->chromadb>=1.0.9->langchain-chroma) (2.33.2)\n",
      "Requirement already satisfied: typing-inspection>=0.4.0 in /home/kj/.pyenv/versions/3.12.11/envs/llm-study/lib/python3.12/site-packages (from pydantic>=1.9->chromadb>=1.0.9->langchain-chroma) (0.4.1)\n",
      "Requirement already satisfied: charset_normalizer<4,>=2 in /home/kj/.pyenv/versions/3.12.11/envs/llm-study/lib/python3.12/site-packages (from requests->kubernetes>=28.1.0->chromadb>=1.0.9->langchain-chroma) (3.4.2)\n",
      "Requirement already satisfied: coloredlogs in /home/kj/.pyenv/versions/3.12.11/envs/llm-study/lib/python3.12/site-packages (from onnxruntime>=1.14.1->chromadb>=1.0.9->langchain-chroma) (15.0.1)\n",
      "Requirement already satisfied: flatbuffers in /home/kj/.pyenv/versions/3.12.11/envs/llm-study/lib/python3.12/site-packages (from onnxruntime>=1.14.1->chromadb>=1.0.9->langchain-chroma) (25.2.10)\n",
      "Requirement already satisfied: protobuf in /home/kj/.pyenv/versions/3.12.11/envs/llm-study/lib/python3.12/site-packages (from onnxruntime>=1.14.1->chromadb>=1.0.9->langchain-chroma) (5.29.5)\n",
      "Requirement already satisfied: sympy in /home/kj/.pyenv/versions/3.12.11/envs/llm-study/lib/python3.12/site-packages (from onnxruntime>=1.14.1->chromadb>=1.0.9->langchain-chroma) (1.14.0)\n",
      "Requirement already satisfied: importlib-metadata<8.8.0,>=6.0 in /home/kj/.pyenv/versions/3.12.11/envs/llm-study/lib/python3.12/site-packages (from opentelemetry-api>=1.2.0->chromadb>=1.0.9->langchain-chroma) (8.7.0)\n",
      "Requirement already satisfied: zipp>=3.20 in /home/kj/.pyenv/versions/3.12.11/envs/llm-study/lib/python3.12/site-packages (from importlib-metadata<8.8.0,>=6.0->opentelemetry-api>=1.2.0->chromadb>=1.0.9->langchain-chroma) (3.23.0)\n",
      "Requirement already satisfied: googleapis-common-protos~=1.52 in /home/kj/.pyenv/versions/3.12.11/envs/llm-study/lib/python3.12/site-packages (from opentelemetry-exporter-otlp-proto-grpc>=1.2.0->chromadb>=1.0.9->langchain-chroma) (1.70.0)\n",
      "Requirement already satisfied: opentelemetry-exporter-otlp-proto-common==1.34.1 in /home/kj/.pyenv/versions/3.12.11/envs/llm-study/lib/python3.12/site-packages (from opentelemetry-exporter-otlp-proto-grpc>=1.2.0->chromadb>=1.0.9->langchain-chroma) (1.34.1)\n",
      "Requirement already satisfied: opentelemetry-proto==1.34.1 in /home/kj/.pyenv/versions/3.12.11/envs/llm-study/lib/python3.12/site-packages (from opentelemetry-exporter-otlp-proto-grpc>=1.2.0->chromadb>=1.0.9->langchain-chroma) (1.34.1)\n",
      "Requirement already satisfied: opentelemetry-semantic-conventions==0.55b1 in /home/kj/.pyenv/versions/3.12.11/envs/llm-study/lib/python3.12/site-packages (from opentelemetry-sdk>=1.2.0->chromadb>=1.0.9->langchain-chroma) (0.55b1)\n",
      "Requirement already satisfied: backoff>=1.10.0 in /home/kj/.pyenv/versions/3.12.11/envs/llm-study/lib/python3.12/site-packages (from posthog>=2.4.0->chromadb>=1.0.9->langchain-chroma) (2.2.1)\n",
      "Requirement already satisfied: distro>=1.5.0 in /home/kj/.pyenv/versions/3.12.11/envs/llm-study/lib/python3.12/site-packages (from posthog>=2.4.0->chromadb>=1.0.9->langchain-chroma) (1.9.0)\n",
      "Requirement already satisfied: markdown-it-py>=2.2.0 in /home/kj/.pyenv/versions/3.12.11/envs/llm-study/lib/python3.12/site-packages (from rich>=10.11.0->chromadb>=1.0.9->langchain-chroma) (3.0.0)\n",
      "Requirement already satisfied: pygments<3.0.0,>=2.13.0 in /home/kj/.pyenv/versions/3.12.11/envs/llm-study/lib/python3.12/site-packages (from rich>=10.11.0->chromadb>=1.0.9->langchain-chroma) (2.19.2)\n",
      "Requirement already satisfied: mdurl~=0.1 in /home/kj/.pyenv/versions/3.12.11/envs/llm-study/lib/python3.12/site-packages (from markdown-it-py>=2.2.0->rich>=10.11.0->chromadb>=1.0.9->langchain-chroma) (0.1.2)\n",
      "Requirement already satisfied: huggingface-hub<1.0,>=0.16.4 in /home/kj/.pyenv/versions/3.12.11/envs/llm-study/lib/python3.12/site-packages (from tokenizers>=0.13.2->chromadb>=1.0.9->langchain-chroma) (0.33.1)\n",
      "Requirement already satisfied: filelock in /home/kj/.pyenv/versions/3.12.11/envs/llm-study/lib/python3.12/site-packages (from huggingface-hub<1.0,>=0.16.4->tokenizers>=0.13.2->chromadb>=1.0.9->langchain-chroma) (3.18.0)\n",
      "Requirement already satisfied: fsspec>=2023.5.0 in /home/kj/.pyenv/versions/3.12.11/envs/llm-study/lib/python3.12/site-packages (from huggingface-hub<1.0,>=0.16.4->tokenizers>=0.13.2->chromadb>=1.0.9->langchain-chroma) (2025.5.1)\n",
      "Requirement already satisfied: hf-xet<2.0.0,>=1.1.2 in /home/kj/.pyenv/versions/3.12.11/envs/llm-study/lib/python3.12/site-packages (from huggingface-hub<1.0,>=0.16.4->tokenizers>=0.13.2->chromadb>=1.0.9->langchain-chroma) (1.1.5)\n",
      "Requirement already satisfied: click>=8.0.0 in /home/kj/.pyenv/versions/3.12.11/envs/llm-study/lib/python3.12/site-packages (from typer>=0.9.0->chromadb>=1.0.9->langchain-chroma) (8.2.1)\n",
      "Requirement already satisfied: shellingham>=1.3.0 in /home/kj/.pyenv/versions/3.12.11/envs/llm-study/lib/python3.12/site-packages (from typer>=0.9.0->chromadb>=1.0.9->langchain-chroma) (1.5.4)\n",
      "Requirement already satisfied: httptools>=0.6.3 in /home/kj/.pyenv/versions/3.12.11/envs/llm-study/lib/python3.12/site-packages (from uvicorn[standard]>=0.18.3->chromadb>=1.0.9->langchain-chroma) (0.6.4)\n",
      "Requirement already satisfied: python-dotenv>=0.13 in /home/kj/.pyenv/versions/3.12.11/envs/llm-study/lib/python3.12/site-packages (from uvicorn[standard]>=0.18.3->chromadb>=1.0.9->langchain-chroma) (1.1.1)\n",
      "Requirement already satisfied: uvloop>=0.15.1 in /home/kj/.pyenv/versions/3.12.11/envs/llm-study/lib/python3.12/site-packages (from uvicorn[standard]>=0.18.3->chromadb>=1.0.9->langchain-chroma) (0.21.0)\n",
      "Requirement already satisfied: watchfiles>=0.13 in /home/kj/.pyenv/versions/3.12.11/envs/llm-study/lib/python3.12/site-packages (from uvicorn[standard]>=0.18.3->chromadb>=1.0.9->langchain-chroma) (1.1.0)\n",
      "Requirement already satisfied: websockets>=10.4 in /home/kj/.pyenv/versions/3.12.11/envs/llm-study/lib/python3.12/site-packages (from uvicorn[standard]>=0.18.3->chromadb>=1.0.9->langchain-chroma) (15.0.1)\n",
      "Requirement already satisfied: sniffio>=1.1 in /home/kj/.pyenv/versions/3.12.11/envs/llm-study/lib/python3.12/site-packages (from anyio->httpx>=0.27.0->chromadb>=1.0.9->langchain-chroma) (1.3.1)\n",
      "Requirement already satisfied: humanfriendly>=9.1 in /home/kj/.pyenv/versions/3.12.11/envs/llm-study/lib/python3.12/site-packages (from coloredlogs->onnxruntime>=1.14.1->chromadb>=1.0.9->langchain-chroma) (10.0)\n",
      "Requirement already satisfied: mpmath<1.4,>=1.1.0 in /home/kj/.pyenv/versions/3.12.11/envs/llm-study/lib/python3.12/site-packages (from sympy->onnxruntime>=1.14.1->chromadb>=1.0.9->langchain-chroma) (1.3.0)\n"
     ]
    }
   ],
   "source": [
    "!pip install docx2txt langchain-community\n",
    "!pip install langchain-text-splitters\n",
    "!pip install langchain-chroma"
   ]
  },
  {
   "cell_type": "code",
   "execution_count": 2,
   "metadata": {},
   "outputs": [
    {
     "data": {
      "text/plain": [
       "True"
      ]
     },
     "execution_count": 2,
     "metadata": {},
     "output_type": "execute_result"
    }
   ],
   "source": [
    "from dotenv import load_dotenv\n",
    "load_dotenv()"
   ]
  },
  {
   "cell_type": "code",
   "execution_count": 3,
   "metadata": {},
   "outputs": [],
   "source": [
    "from langchain_community.document_loaders import Docx2txtLoader\n",
    "from langchain_text_splitters import RecursiveCharacterTextSplitter\n",
    "\n",
    "text_splitter = RecursiveCharacterTextSplitter(\n",
    "    chunk_size=1500,     # 각 청크의 최대 문자 수\n",
    "    chunk_overlap=200    # 청크 간 겹치는 문자 수\n",
    ")\n",
    "\n",
    "loader = Docx2txtLoader('./tax.docx')\n",
    "tax_documents = loader.load_and_split(text_splitter=text_splitter)"
   ]
  },
  {
   "cell_type": "code",
   "execution_count": null,
   "metadata": {},
   "outputs": [],
   "source": [
    "from langchain_google_genai import GoogleGenerativeAIEmbeddings\n",
    "\n",
    "embedding = GoogleGenerativeAIEmbeddings(model=\"models/text-embedding-004\")"
   ]
  },
  {
   "cell_type": "code",
   "execution_count": 5,
   "metadata": {},
   "outputs": [],
   "source": [
    "from langchain_chroma import Chroma\n",
    "\n",
    "database = Chroma.from_documents(documents=tax_documents, embedding=embedding, collection_name='chroma-tax', persist_directory='./chroma')"
   ]
  },
  {
   "cell_type": "code",
   "execution_count": 9,
   "metadata": {},
   "outputs": [],
   "source": [
    "query = '연봉 5천만원 직장인의 소득세는 얼마인가요?'\n",
    "retrieved_docs = database.similarity_search(query, k=3)"
   ]
  },
  {
   "cell_type": "code",
   "execution_count": 11,
   "metadata": {},
   "outputs": [],
   "source": [
    "from langchain_google_genai import ChatGoogleGenerativeAI\n",
    "llm = ChatGoogleGenerativeAI(model=\"gemini-2.5-flash\")"
   ]
  },
  {
   "cell_type": "code",
   "execution_count": 12,
   "metadata": {},
   "outputs": [
    {
     "data": {
      "text/plain": [
       "'안녕하세요, 최고의 한국 소득세 전문가입니다.\\n\\n연봉 5천만원 직장인의 소득세를 정확히 계산하기 위해서는 몇 가지 추가 정보가 필요합니다. 세금은 단순히 연봉에 세율을 곱하는 것이 아니라, 다양한 소득공제와 세액공제를 거쳐 계산되기 때문입니다.\\n\\n[Context] 문서에서 소득의 구분(제4조)과 공동소유 자산의 납세의무(제2조), 신탁재산 귀속 소득(제2조의3), 그리고 특별소득공제의 일환으로 장기주택저당차입금 이자상환액 소득공제(제52조) 및 부양가족의 범위(제53조) 등에 대한 규정은 제시되어 있으나, 구체적인 근로소득공제율, 인적공제액, 세액공제 항목 및 세율 등 소득세 계산에 필요한 모든 정보는 포함되어 있지 않습니다.\\n\\n하지만 전문가로서 소득세 계산의 일반적인 흐름과 필요한 정보는 다음과 같습니다.\\n\\n**소득세 계산 과정 (근로소득자의 경우):**\\n\\n1.  **총급여액 확인:** 연봉 5천만원이 총급여액이 됩니다.\\n2.  **근로소득공제 적용:** 총급여액에서 소득세법에 따른 근로소득공제를 차감합니다. 이 공제는 총급여액 구간별로 정해진 금액 또는 비율을 적용합니다.\\n3.  **근로소득금액 산출:** (총급여액 - 근로소득공제) = 근로소득금액\\n4.  **종합소득공제 적용:** 근로소득금액에서 인적공제(본인, 배우자, 부양가족), 연금보험료 공제(국민연금 등), 건강보험료 공제, 주택자금 공제, 신용카드 등 사용액 공제 등 다양한 소득공제를 차감합니다.\\n5.  **과세표준 산출:** (근로소득금액 - 종합소득공제) = 과세표준\\n6.  **산출세액 계산:** 과세표준에 소득세율(누진세율)을 적용하여 산출세액을 계산합니다.\\n7.  **세액공제 적용:** 산출세액에서 근로소득세액공제, 자녀세액공제, 연금계좌세액공제, 의료비/교육비/기부금 세액공제 등 각종 세액공제를 차감합니다.\\n8.  **결정세액 산출:** (산출세액 - 세액공제) = 최종 납부할 소득세액\\n\\n**연봉 5천만원 직장인의 소득세 계산을 위해 필요한 추가 정보:**\\n\\n*   **부양가족 여부:** 본인 외에 배우자, 자녀, 부모님 등 부양가족이 있는지, 있다면 몇 명인지에 따라 인적공제 금액이 달라집니다.\\n*   **국민연금 및 건강보험료 납부액:** 실제 납부한 보험료는 전액 소득공제됩니다.\\n*   **주택 관련 공제:** 무주택자인 경우 월세액 세액공제, 주택자금대출 이자상환액 소득공제(문서 내 제52조 관련), 주택마련저축 공제 등이 적용될 수 있습니다.\\n*   **신용카드, 현금영수증 사용액:** 총급여액의 일정 비율을 초과하는 사용액에 대해 소득공제가 적용됩니다.\\n*   **의료비, 교육비, 기부금, 보장성보험료 등:** 특정 지출에 대해 세액공제가 적용됩니다.\\n*   **기타 특별소득공제 및 세액공제 대상 여부:** 예를 들어, 개인연금저축, 소기업·소상공인 공제부금(노란우산공제) 등.\\n\\n**결론적으로, 위 추가 정보 없이 연봉 5천만원 직장인의 소득세를 특정 금액으로 말씀드리기는 어렵습니다.**\\n\\n다만, 일반적인 가정을 기반으로 대략적인 세금을 추정해 볼 수는 있으나, 이는 실제 납부할 세금과 차이가 클 수 있습니다. 가장 정확한 세금 계산을 위해서는 국세청 홈택스 모의계산 서비스나 세무 전문가와의 상담을 통해 본인의 상세한 소득 및 공제 내역을 반영하여 계산하는 것이 좋습니다.'"
      ]
     },
     "execution_count": 12,
     "metadata": {},
     "output_type": "execute_result"
    }
   ],
   "source": [
    "prompt = f\"\"\"[Identity]\n",
    "- 당신은 최고의 한국 소득세 전문가 입니다.\n",
    "- [Context]를 참고해서 사용자의 질문에 답변해주세요.\n",
    "\n",
    "[Context]\n",
    "{retrieved_docs}\n",
    "\n",
    "[Question]\n",
    "{query}\n",
    "\"\"\"\n",
    "\n",
    "ai_message = llm.invoke(prompt)\n",
    "ai_message.content"
   ]
  }
 ],
 "metadata": {
  "kernelspec": {
   "display_name": "llm-study",
   "language": "python",
   "name": "python3"
  },
  "language_info": {
   "codemirror_mode": {
    "name": "ipython",
    "version": 3
   },
   "file_extension": ".py",
   "mimetype": "text/x-python",
   "name": "python",
   "nbconvert_exporter": "python",
   "pygments_lexer": "ipython3",
   "version": "3.12.11"
  }
 },
 "nbformat": 4,
 "nbformat_minor": 2
}
