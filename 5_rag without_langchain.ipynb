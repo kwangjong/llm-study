{
 "cells": [
  {
   "cell_type": "code",
   "execution_count": 4,
   "metadata": {},
   "outputs": [
    {
     "name": "stdout",
     "output_type": "stream",
     "text": [
      "Requirement already satisfied: tiktoken in /home/kj/miniconda3/envs/llm/lib/python3.13/site-packages (0.9.0)\n",
      "Requirement already satisfied: regex>=2022.1.18 in /home/kj/miniconda3/envs/llm/lib/python3.13/site-packages (from tiktoken) (2024.11.6)\n",
      "Requirement already satisfied: requests>=2.26.0 in /home/kj/miniconda3/envs/llm/lib/python3.13/site-packages (from tiktoken) (2.32.3)\n",
      "Requirement already satisfied: charset-normalizer<4,>=2 in /home/kj/miniconda3/envs/llm/lib/python3.13/site-packages (from requests>=2.26.0->tiktoken) (3.4.1)\n",
      "Requirement already satisfied: idna<4,>=2.5 in /home/kj/miniconda3/envs/llm/lib/python3.13/site-packages (from requests>=2.26.0->tiktoken) (3.10)\n",
      "Requirement already satisfied: urllib3<3,>=1.21.1 in /home/kj/miniconda3/envs/llm/lib/python3.13/site-packages (from requests>=2.26.0->tiktoken) (2.4.0)\n",
      "Requirement already satisfied: certifi>=2017.4.17 in /home/kj/miniconda3/envs/llm/lib/python3.13/site-packages (from requests>=2.26.0->tiktoken) (2025.4.26)\n"
     ]
    }
   ],
   "source": [
    "!pip install tiktoken"
   ]
  },
  {
   "cell_type": "code",
   "execution_count": null,
   "metadata": {},
   "outputs": [],
   "source": [
    "from docx import Document\n",
    "\n",
    "document = Document('./tax.docx')\n",
    "\n",
    "full_text = ''\n",
    "for index, paragraph in enumerate(document.paragraphs):\n",
    "    full_text += f'{paragraph.text}\\n'"
   ]
  },
  {
   "cell_type": "code",
   "execution_count": 11,
   "metadata": {},
   "outputs": [],
   "source": [
    "import tiktoken\n",
    "\n",
    "def split_text(full_text, chunk_size):\n",
    "    encoder = tiktoken.encoding_for_model(\"gpt-4o-mini\")\n",
    "    total_encoding = encoder.encode(full_text)\n",
    "    \n",
    "    total_token_count = len(total_encoding)\n",
    "    \n",
    "    text_list = []\n",
    "    for i in range(0, total_token_count, chunk_size):\n",
    "        chunk = total_encoding[i: i+chunk_size]\n",
    "        decoded = encoder.decode(chunk)\n",
    "        text_list.append(decoded)\n",
    "         \n",
    "    return text_list\n",
    "\n",
    "chunk_list = split_text(full_text, 1500)"
   ]
  },
  {
   "cell_type": "code",
   "execution_count": 13,
   "metadata": {},
   "outputs": [
    {
     "name": "stderr",
     "output_type": "stream",
     "text": [
      "Failed to send telemetry event ClientStartEvent: capture() takes 1 positional argument but 3 were given\n",
      "Failed to send telemetry event ClientCreateCollectionEvent: capture() takes 1 positional argument but 3 were given\n"
     ]
    }
   ],
   "source": [
    "import chromadb\n",
    "\n",
    "chroma_client = chromadb.Client()\n",
    "\n",
    "collection_name = 'tax_collection'\n",
    "tax_collection = chroma_client.create_collection(collection_name)"
   ]
  },
  {
   "cell_type": "code",
   "execution_count": 7,
   "metadata": {},
   "outputs": [],
   "source": [
    "from dotenv import load_dotenv\n",
    "from chromadb.utils.embedding_functions import OpenAIEmbeddingFunction\n",
    "\n",
    "load_dotenv()\n",
    "openai_embedding = OpenAIEmbeddingFunction(model_name='text-embedding-3-large')"
   ]
  },
  {
   "cell_type": "code",
   "execution_count": 12,
   "metadata": {},
   "outputs": [
    {
     "ename": "NameError",
     "evalue": "name 'chroma_client' is not defined",
     "output_type": "error",
     "traceback": [
      "\u001b[31m---------------------------------------------------------------------------\u001b[39m",
      "\u001b[31mNameError\u001b[39m                                 Traceback (most recent call last)",
      "\u001b[36mCell\u001b[39m\u001b[36m \u001b[39m\u001b[32mIn[12]\u001b[39m\u001b[32m, line 1\u001b[39m\n\u001b[32m----> \u001b[39m\u001b[32m1\u001b[39m tax_collection = \u001b[43mchroma_client\u001b[49m.get_or_create_collection(collection_name, embedding_function=openai_embedding)\n\u001b[32m      4\u001b[39m id_list = [\u001b[33mf\u001b[39m\u001b[33m'\u001b[39m\u001b[38;5;132;01m{\u001b[39;00mi\u001b[38;5;132;01m}\u001b[39;00m\u001b[33m'\u001b[39m \u001b[38;5;28;01mfor\u001b[39;00m i \u001b[38;5;129;01min\u001b[39;00m \u001b[38;5;28mrange\u001b[39m(\u001b[38;5;28mlen\u001b[39m(chunk_list))]\n\u001b[32m      5\u001b[39m tax_collection.add(documents=chunk_list, ids=id_list)\n",
      "\u001b[31mNameError\u001b[39m: name 'chroma_client' is not defined"
     ]
    }
   ],
   "source": [
    "tax_collection = chroma_client.get_or_create_collection(collection_name, embedding_function=openai_embedding)\n",
    "\n",
    "\n",
    "id_list = [f'{i}' for i in range(len(chunk_list))]\n",
    "tax_collection.add(documents=chunk_list, ids=id_list)"
   ]
  },
  {
   "cell_type": "code",
   "execution_count": 3,
   "metadata": {},
   "outputs": [
    {
     "name": "stderr",
     "output_type": "stream",
     "text": [
      "/home/kj/miniconda3/envs/llm/lib/python3.13/site-packages/langsmith/client.py:272: LangSmithMissingAPIKeyWarning: API key must be provided when using hosted LangSmith API\n",
      "  warnings.warn(\n"
     ]
    }
   ],
   "source": [
    "from langchain import hub\n",
    "\n",
    "prompt = hub.pull(\"rlm/rag-prompt\")"
   ]
  },
  {
   "cell_type": "code",
   "execution_count": 11,
   "metadata": {},
   "outputs": [],
   "source": [
    "from langchain.chains import RetrievalQA\n",
    "\n",
    "qa_chain = RetrievalQA.from_chain_type(\n",
    "    llm, \n",
    "    retriever = database.as_retriever(),\n",
    "    chain_type_kwargs = {'prompt': prompt}\n",
    ")"
   ]
  },
  {
   "cell_type": "code",
   "execution_count": 12,
   "metadata": {},
   "outputs": [
    {
     "data": {
      "text/plain": [
       "{'query': '연봉 5천만원 직장인의 소득세는 얼마인가요?',\n",
       " 'result': '제공된 정보는 소득의 구분, 과세소득의 범위, 특별소득공제 등에 대한 일반적인 세법 규정을 담고 있습니다. 연봉 5천만원 직장인의 구체적인 소득세액을 계산하기 위한 세율, 공제 항목별 금액, 계산 공식 등은 포함되어 있지 않습니다. 따라서 해당 정보만으로는 소득세를 알 수 없습니다.'}"
      ]
     },
     "execution_count": 12,
     "metadata": {},
     "output_type": "execute_result"
    }
   ],
   "source": [
    "query = '연봉 5천만원 직장인의 소득세는 얼마인가요?'\n",
    "ai_message = qa_chain({\"query\" : query})\n",
    "ai_message"
   ]
  },
  {
   "cell_type": "code",
   "execution_count": null,
   "metadata": {},
   "outputs": [],
   "source": []
  }
 ],
 "metadata": {
  "kernelspec": {
   "display_name": "llm",
   "language": "python",
   "name": "python3"
  },
  "language_info": {
   "codemirror_mode": {
    "name": "ipython",
    "version": 3
   },
   "file_extension": ".py",
   "mimetype": "text/x-python",
   "name": "python",
   "nbconvert_exporter": "python",
   "pygments_lexer": "ipython3",
   "version": "3.13.2"
  }
 },
 "nbformat": 4,
 "nbformat_minor": 2
}
